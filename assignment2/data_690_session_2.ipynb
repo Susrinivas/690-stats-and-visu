{
  "nbformat": 4,
  "nbformat_minor": 0,
  "metadata": {
    "colab": {
      "provenance": [],
      "authorship_tag": "ABX9TyPOb2Kc5VEiyPPm+2PF9Q3f",
      "include_colab_link": true
    },
    "kernelspec": {
      "name": "python3",
      "display_name": "Python 3"
    },
    "language_info": {
      "name": "python"
    }
  },
  "cells": [
    {
      "cell_type": "markdown",
      "metadata": {
        "id": "view-in-github",
        "colab_type": "text"
      },
      "source": [
        "<a href=\"https://colab.research.google.com/github/vunnampragathi/690-stats-and-visu/blob/main/assignment2/data_690_session_2.ipynb\" target=\"_parent\"><img src=\"https://colab.research.google.com/assets/colab-badge.svg\" alt=\"Open In Colab\"/></a>"
      ]
    },
    {
      "cell_type": "markdown",
      "source": [
        "# Data 690 session 2\n",
        "-date: 09/09/2022\n",
        "\n",
        "-Name: Pragathi Vunnam"
      ],
      "metadata": {
        "id": "EzBjvpgVcjpC"
      }
    },
    {
      "cell_type": "code",
      "execution_count": 20,
      "metadata": {
        "colab": {
          "base_uri": "https://localhost:8080/"
        },
        "id": "zad2aUuWcd1X",
        "outputId": "0553e375-5b74-48d4-f849-a8a05a124ad7"
      },
      "outputs": [
        {
          "output_type": "stream",
          "name": "stdout",
          "text": [
            "birth years of students 1/11/1997 1991 2000 1969 1999 1998 1993 1996 1999 1997 1996 1998 1995 1999 1999 1997 1996 1996 1997 1995 1997 1999 2000\n"
          ]
        }
      ],
      "source": [
        "years = \"1/11/1997 1991 2000 1969 1999 1998 1993 1996 1999 1997 1996 1998 1995 1999 1999 1997 1996 1996 1997 1995 1997 1999 2000\"\n",
        "\n",
        "print(\"birth years of students\", years)"
      ]
    },
    {
      "cell_type": "code",
      "source": [
        "type(years)"
      ],
      "metadata": {
        "colab": {
          "base_uri": "https://localhost:8080/"
        },
        "id": "js16uUExeKt4",
        "outputId": "e04fe713-099d-44f0-e8db-f7490b16ea34"
      },
      "execution_count": 21,
      "outputs": [
        {
          "output_type": "execute_result",
          "data": {
            "text/plain": [
              "str"
            ]
          },
          "metadata": {},
          "execution_count": 21
        }
      ]
    },
    {
      "cell_type": "code",
      "source": [
        "type(True)"
      ],
      "metadata": {
        "colab": {
          "base_uri": "https://localhost:8080/"
        },
        "id": "g-LAeZc_eQ_r",
        "outputId": "84ea92af-49d6-4155-b71a-0f03d1a9b821"
      },
      "execution_count": 22,
      "outputs": [
        {
          "output_type": "execute_result",
          "data": {
            "text/plain": [
              "bool"
            ]
          },
          "metadata": {},
          "execution_count": 22
        }
      ]
    },
    {
      "cell_type": "code",
      "source": [
        "years_list=years.split(\" \")"
      ],
      "metadata": {
        "id": "Xj15d6nvfP9l"
      },
      "execution_count": 23,
      "outputs": []
    },
    {
      "cell_type": "code",
      "source": [
        "print(years_list)"
      ],
      "metadata": {
        "colab": {
          "base_uri": "https://localhost:8080/"
        },
        "id": "esgQ9JzNfgEb",
        "outputId": "ccc841b7-240a-4845-efa3-e5018f8a006c"
      },
      "execution_count": 24,
      "outputs": [
        {
          "output_type": "stream",
          "name": "stdout",
          "text": [
            "['1/11/1997', '1991', '2000', '1969', '1999', '1998', '1993', '1996', '1999', '1997', '1996', '1998', '1995', '1999', '1999', '1997', '1996', '1996', '1997', '1995', '1997', '1999', '2000']\n"
          ]
        }
      ]
    },
    {
      "cell_type": "code",
      "source": [
        "x=[\"pranitha\",\"rani\",\"rao\"]\n",
        "type(x)"
      ],
      "metadata": {
        "colab": {
          "base_uri": "https://localhost:8080/"
        },
        "id": "gFJwvjNBfvXP",
        "outputId": "1ba0c76a-fadf-4fad-b46b-01cd8104064d"
      },
      "execution_count": 25,
      "outputs": [
        {
          "output_type": "execute_result",
          "data": {
            "text/plain": [
              "list"
            ]
          },
          "metadata": {},
          "execution_count": 25
        }
      ]
    },
    {
      "cell_type": "code",
      "source": [
        "y=[3,9,-19,0,15,21]\n",
        "type(y)"
      ],
      "metadata": {
        "colab": {
          "base_uri": "https://localhost:8080/"
        },
        "id": "icyA8ioggR_j",
        "outputId": "c770992a-8f54-4ec8-8433-58234fb5c6e6"
      },
      "execution_count": 26,
      "outputs": [
        {
          "output_type": "execute_result",
          "data": {
            "text/plain": [
              "list"
            ]
          },
          "metadata": {},
          "execution_count": 26
        }
      ]
    },
    {
      "cell_type": "code",
      "source": [
        "total=0\n",
        "for number in y:\n",
        "  total=total+number\n",
        "\n",
        "print(\"sum of y:\",total)"
      ],
      "metadata": {
        "colab": {
          "base_uri": "https://localhost:8080/"
        },
        "id": "BcqrVWg3gsA-",
        "outputId": "7998a5fe-b20e-4396-cf16-ba12eda35d00"
      },
      "execution_count": 27,
      "outputs": [
        {
          "output_type": "stream",
          "name": "stdout",
          "text": [
            "sum of y: 29\n"
          ]
        }
      ]
    },
    {
      "cell_type": "code",
      "source": [
        "print(\"the size of the list y is:\",len(y))"
      ],
      "metadata": {
        "colab": {
          "base_uri": "https://localhost:8080/"
        },
        "id": "5XiFXEfRg6M5",
        "outputId": "18cf9bc7-9d14-445e-f11c-839cfb603f42"
      },
      "execution_count": 28,
      "outputs": [
        {
          "output_type": "stream",
          "name": "stdout",
          "text": [
            "the size of the list y is: 6\n"
          ]
        }
      ]
    },
    {
      "cell_type": "code",
      "source": [
        "print(\"the avg of y is:\",total/len(y))"
      ],
      "metadata": {
        "colab": {
          "base_uri": "https://localhost:8080/"
        },
        "id": "n-GJRqgphZd2",
        "outputId": "4b62bfe3-aa85-45ee-ce87-f586956e03ad"
      },
      "execution_count": 29,
      "outputs": [
        {
          "output_type": "stream",
          "name": "stdout",
          "text": [
            "the avg of y is: 4.833333333333333\n"
          ]
        }
      ]
    },
    {
      "cell_type": "markdown",
      "source": [
        "# approach 1"
      ],
      "metadata": {
        "id": "u_ffMALztQYl"
      }
    },
    {
      "cell_type": "code",
      "source": [
        "years_list[0]"
      ],
      "metadata": {
        "colab": {
          "base_uri": "https://localhost:8080/",
          "height": 35
        },
        "id": "TRtisvO8hu3N",
        "outputId": "99538e0d-56dc-4dcc-b869-98a883827691"
      },
      "execution_count": 30,
      "outputs": [
        {
          "output_type": "execute_result",
          "data": {
            "text/plain": [
              "'1/11/1997'"
            ],
            "application/vnd.google.colaboratory.intrinsic+json": {
              "type": "string"
            }
          },
          "metadata": {},
          "execution_count": 30
        }
      ]
    },
    {
      "cell_type": "code",
      "source": [
        "years_list.pop(0)\n",
        "years_list"
      ],
      "metadata": {
        "colab": {
          "base_uri": "https://localhost:8080/"
        },
        "id": "OunnKty0iD1G",
        "outputId": "4dec56e4-47c2-42ef-894d-cd5fea478205"
      },
      "execution_count": 31,
      "outputs": [
        {
          "output_type": "execute_result",
          "data": {
            "text/plain": [
              "['1991',\n",
              " '2000',\n",
              " '1969',\n",
              " '1999',\n",
              " '1998',\n",
              " '1993',\n",
              " '1996',\n",
              " '1999',\n",
              " '1997',\n",
              " '1996',\n",
              " '1998',\n",
              " '1995',\n",
              " '1999',\n",
              " '1999',\n",
              " '1997',\n",
              " '1996',\n",
              " '1996',\n",
              " '1997',\n",
              " '1995',\n",
              " '1997',\n",
              " '1999',\n",
              " '2000']"
            ]
          },
          "metadata": {},
          "execution_count": 31
        }
      ]
    },
    {
      "cell_type": "code",
      "source": [
        "from datetime import date\n",
        "current_year=date.today().year\n",
        "print(current_year)\n",
        "\n",
        "total=0\n",
        "for birthyear in years_list:\n",
        "  age=current_year -int(birthyear)\n",
        "  total=total+age\n",
        "\n",
        "print(\"total age is:\",total)"
      ],
      "metadata": {
        "colab": {
          "base_uri": "https://localhost:8080/"
        },
        "id": "KDqv2yX_kyFu",
        "outputId": "d1272c7c-6247-46af-9c1c-6a43eeb575b3"
      },
      "execution_count": 35,
      "outputs": [
        {
          "output_type": "stream",
          "name": "stdout",
          "text": [
            "2022\n",
            "total age is: 578\n"
          ]
        }
      ]
    },
    {
      "cell_type": "code",
      "source": [
        "average_age=total/len(years_list)\n",
        "print(\"average age of class is:\",average_age)"
      ],
      "metadata": {
        "colab": {
          "base_uri": "https://localhost:8080/"
        },
        "id": "osqu3MT1mdIS",
        "outputId": "c315282f-4baa-46db-b2ba-409a4e1f1b77"
      },
      "execution_count": 36,
      "outputs": [
        {
          "output_type": "stream",
          "name": "stdout",
          "text": [
            "average age of class is: 26.272727272727273\n"
          ]
        }
      ]
    },
    {
      "cell_type": "markdown",
      "source": [
        "# approach 2"
      ],
      "metadata": {
        "id": "Rqr94w4xtUow"
      }
    },
    {
      "cell_type": "code",
      "source": [
        "years_list=years.split()\n",
        "print(years_list)"
      ],
      "metadata": {
        "colab": {
          "base_uri": "https://localhost:8080/"
        },
        "id": "M-90IYxYm53X",
        "outputId": "2d088732-f806-417b-9eac-b42727a5194a"
      },
      "execution_count": 37,
      "outputs": [
        {
          "output_type": "stream",
          "name": "stdout",
          "text": [
            "['1/11/1997', '1991', '2000', '1969', '1999', '1998', '1993', '1996', '1999', '1997', '1996', '1998', '1995', '1999', '1999', '1997', '1996', '1996', '1997', '1995', '1997', '1999', '2000']\n"
          ]
        }
      ]
    },
    {
      "cell_type": "code",
      "source": [
        "years_list[0]=\"1997\"\n",
        "print(years_list)"
      ],
      "metadata": {
        "colab": {
          "base_uri": "https://localhost:8080/"
        },
        "id": "pC3uH35Etq23",
        "outputId": "cf8dfec1-bd8c-46cb-ad47-809c77f05b5c"
      },
      "execution_count": 38,
      "outputs": [
        {
          "output_type": "stream",
          "name": "stdout",
          "text": [
            "['1997', '1991', '2000', '1969', '1999', '1998', '1993', '1996', '1999', '1997', '1996', '1998', '1995', '1999', '1999', '1997', '1996', '1996', '1997', '1995', '1997', '1999', '2000']\n"
          ]
        }
      ]
    },
    {
      "cell_type": "code",
      "source": [
        "y='in python string accepts \" \" in the same way as single quotes'\n",
        "y"
      ],
      "metadata": {
        "colab": {
          "base_uri": "https://localhost:8080/",
          "height": 35
        },
        "id": "RuChWfqFtyBO",
        "outputId": "9ef5a26f-706c-46d4-c9e3-d0d0b5cb4cea"
      },
      "execution_count": 43,
      "outputs": [
        {
          "output_type": "execute_result",
          "data": {
            "text/plain": [
              "'in python string accepts \" \" in the same way as single quotes'"
            ],
            "application/vnd.google.colaboratory.intrinsic+json": {
              "type": "string"
            }
          },
          "metadata": {},
          "execution_count": 43
        }
      ]
    },
    {
      "cell_type": "code",
      "source": [
        "from datetime import date\n",
        "current_year=date.today().year\n",
        "print(current_year)\n",
        "\n",
        "total=0\n",
        "for birthyear in years_list:\n",
        "  age=current_year -int(birthyear)\n",
        "  total=total+age\n",
        "\n",
        "print(\"total age is:\",total)"
      ],
      "metadata": {
        "colab": {
          "base_uri": "https://localhost:8080/"
        },
        "id": "XL9fSoO4t-p-",
        "outputId": "d7b22ae3-4c93-4ae5-b8ff-ce82c40f73a1"
      },
      "execution_count": 44,
      "outputs": [
        {
          "output_type": "stream",
          "name": "stdout",
          "text": [
            "2022\n",
            "total age is: 603\n"
          ]
        }
      ]
    },
    {
      "cell_type": "code",
      "source": [
        "average_age=total/len(years_list)\n",
        "print(\"average age of class is:\",average_age)"
      ],
      "metadata": {
        "colab": {
          "base_uri": "https://localhost:8080/"
        },
        "id": "p8jSTy1EuRDP",
        "outputId": "df5a9859-ae03-4ae3-88e9-1f11a38a4b7a"
      },
      "execution_count": 45,
      "outputs": [
        {
          "output_type": "stream",
          "name": "stdout",
          "text": [
            "average age of class is: 26.217391304347824\n"
          ]
        }
      ]
    },
    {
      "cell_type": "markdown",
      "source": [
        "# approach 3-handle exception\n",
        "here we will not fix the data issue"
      ],
      "metadata": {
        "id": "mG4HIo4FuU5c"
      }
    },
    {
      "cell_type": "code",
      "source": [
        "years = \"1/11/1997 1991 2000vv 1969 1999 1998 1993 1996 1999 1997 1906 1998 1995 1999 1999 1997 1996 1996 1997 1995 1997 1999 2000\"\n",
        "\n",
        "print(\"birth years of students\", years)\n",
        "\n",
        "years_list=years.split()\n",
        "print(years_list)"
      ],
      "metadata": {
        "colab": {
          "base_uri": "https://localhost:8080/"
        },
        "id": "wBMGgNHsuTSZ",
        "outputId": "c8c6ecad-219b-4b8b-bb04-5299c303b39b"
      },
      "execution_count": 55,
      "outputs": [
        {
          "output_type": "stream",
          "name": "stdout",
          "text": [
            "birth years of students 1/11/1997 1991 2000vv 1969 1999 1998 1993 1996 1999 1997 1906 1998 1995 1999 1999 1997 1996 1996 1997 1995 1997 1999 2000\n",
            "['1/11/1997', '1991', '2000vv', '1969', '1999', '1998', '1993', '1996', '1999', '1997', '1906', '1998', '1995', '1999', '1999', '1997', '1996', '1996', '1997', '1995', '1997', '1999', '2000']\n"
          ]
        }
      ]
    },
    {
      "cell_type": "code",
      "source": [
        "from datetime import date\n",
        "current_year=date.today().year\n",
        "print(current_year)\n",
        "\n",
        "total=0\n",
        "count=0\n",
        "for birthyear in years_list:\n",
        "  try:\n",
        "    year_int=int(birthyear)\n",
        "  except:\n",
        "    continue\n",
        "\n",
        "  age=current_year -year_int\n",
        "  if age>80 or age<10:\n",
        "    print(\"skipping the person age:\",age)\n",
        "    continue\n",
        "  total=total+age\n",
        "  count=count+1\n",
        "\n",
        "print(\"total age is:\",total)\n",
        "print(\"no.of students is:\",count)"
      ],
      "metadata": {
        "colab": {
          "base_uri": "https://localhost:8080/"
        },
        "id": "e9QzNEN8upf2",
        "outputId": "f7ee3a1d-26d7-4a81-c5b0-c6b6b020d54a"
      },
      "execution_count": 60,
      "outputs": [
        {
          "output_type": "stream",
          "name": "stdout",
          "text": [
            "2022\n",
            "skipping the person age: 116\n",
            "total age is: 530\n",
            "no.of students is: 20\n"
          ]
        }
      ]
    },
    {
      "cell_type": "code",
      "source": [
        "average_age=total/count\n",
        "print(\"average age of class is:\",average_age)"
      ],
      "metadata": {
        "colab": {
          "base_uri": "https://localhost:8080/"
        },
        "id": "HBjA4KqHusFN",
        "outputId": "4fd7ba6b-7b88-4a08-bd3a-6ef5de4a32c9"
      },
      "execution_count": 59,
      "outputs": [
        {
          "output_type": "stream",
          "name": "stdout",
          "text": [
            "average age of class is: 26.5\n"
          ]
        }
      ]
    },
    {
      "cell_type": "markdown",
      "source": [
        "# miscellinious"
      ],
      "metadata": {
        "id": "uuEUfhQeyRlA"
      }
    },
    {
      "cell_type": "code",
      "source": [
        "count=0\n",
        "while True:\n",
        " \n",
        "    try:\n",
        "      x=int(input(\"enter an integer:\"))\n",
        "      if count==10:\n",
        "      break\n",
        "    except:\n",
        "      print(\"you need enter an integer,please try again\")"
      ],
      "metadata": {
        "id": "SsUeUCicyeew"
      },
      "execution_count": null,
      "outputs": []
    }
  ]
}