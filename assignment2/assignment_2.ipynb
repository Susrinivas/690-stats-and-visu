{
  "nbformat": 4,
  "nbformat_minor": 0,
  "metadata": {
    "colab": {
      "provenance": [],
      "authorship_tag": "ABX9TyNx23ej/A8V08YESIELksTc",
      "include_colab_link": true
    },
    "kernelspec": {
      "name": "python3",
      "display_name": "Python 3"
    },
    "language_info": {
      "name": "python"
    }
  },
  "cells": [
    {
      "cell_type": "markdown",
      "metadata": {
        "id": "view-in-github",
        "colab_type": "text"
      },
      "source": [
        "<a href=\"https://colab.research.google.com/github/vunnampragathi/690-stats-and-visu/blob/main/assignment2/assignment_2.ipynb\" target=\"_parent\"><img src=\"https://colab.research.google.com/assets/colab-badge.svg\" alt=\"Open In Colab\"/></a>"
      ]
    },
    {
      "cell_type": "markdown",
      "source": [
        "# assignment 2"
      ],
      "metadata": {
        "id": "1DQixMxFFoT3"
      }
    },
    {
      "cell_type": "markdown",
      "source": [
        "### getting the input:\n",
        "Prompting a user to enter 10 integers.\n",
        "\n",
        "If the user enters anything other than integers, reminding them that only integers are allowed and let them retry.\n",
        "\n",
        "not allowing the user to enter more than 10 or less than 10 integers.\n",
        "Displaying the 10 integers entered at the end."
      ],
      "metadata": {
        "id": "KtKOZdvhHLit"
      }
    },
    {
      "cell_type": "code",
      "execution_count": 1,
      "metadata": {
        "colab": {
          "base_uri": "https://localhost:8080/"
        },
        "id": "yxdkRQGsFe_w",
        "outputId": "9d1aee43-0555-4df8-cb5f-265764d704f1"
      },
      "outputs": [
        {
          "output_type": "stream",
          "name": "stdout",
          "text": [
            "Enter an integer:40\n",
            "Enter an integer:gk\n",
            "You need to enter an integer. please try again.\n",
            "Enter an integer:4r\n",
            "You need to enter an integer. please try again.\n",
            "Enter an integer:89\n",
            "Enter an integer:49\n",
            "Enter an integer:25\n",
            "Enter an integer:10\n",
            "Enter an integer:92\n",
            "Enter an integer:f5\n",
            "You need to enter an integer. please try again.\n",
            "Enter an integer:77\n",
            "Enter an integer:3r\n",
            "You need to enter an integer. please try again.\n",
            "Enter an integer:37\n",
            "Enter an integer:52\n",
            "Enter an integer:88\n",
            "the given input integer values are [40, 89, 49, 25, 10, 92, 77, 37, 52, 88]\n"
          ]
        }
      ],
      "source": [
        "count = 0\n",
        "data=[] \n",
        "while True:\n",
        "    \n",
        "    if count == 10:\n",
        "        break\n",
        "\n",
        "    try:\n",
        "        \n",
        "        x = int(input(\"Enter an integer:\"))\n",
        "        count = count + 1\n",
        "\n",
        "        if type(x) == int:\n",
        "          data.append(x)\n",
        "       \n",
        "    except:\n",
        "        print(\"You need to enter an integer. please try again.\")\n",
        "        \n",
        "  \n",
        "      \n",
        "print(\"the given input integer values are\",data)"
      ]
    },
    {
      "cell_type": "markdown",
      "source": [
        "### 1.minimum:\n",
        "getting the minimum number from the conisdered list of numbers.\n"
      ],
      "metadata": {
        "id": "p5CvaveFHu_g"
      }
    },
    {
      "cell_type": "code",
      "source": [
        "def minimum(list):\n",
        "  current_min = list[0]  # Start by assuming the first number is smallest\n",
        "  for num in list:       # Loop through each number in the list\n",
        "    if num < current_min:\n",
        "      current_min = num  # Update current_min if current number is less\n",
        "  return current_min\n",
        "print(\"minimum value in the list is:\",minimum(data))"
      ],
      "metadata": {
        "colab": {
          "base_uri": "https://localhost:8080/"
        },
        "id": "zXeOV4mEGdB5",
        "outputId": "f7ac8106-9918-4c47-b173-964b6554f920"
      },
      "execution_count": 9,
      "outputs": [
        {
          "output_type": "stream",
          "name": "stdout",
          "text": [
            "minimum value in the list is: 10\n"
          ]
        }
      ]
    },
    {
      "cell_type": "markdown",
      "source": [
        "### 2.maximum:\n",
        "getting the maximum number from the considered list of numbers"
      ],
      "metadata": {
        "id": "fbloFekVH-Rt"
      }
    },
    {
      "cell_type": "code",
      "source": [
        "max_value = data[0]         # Initialize maximum to first element in list\n",
        "for number in data[1:]:     # Go through all remaining numbers in the list\n",
        "    if number > max_value:  # Check if current number is larger than our maximum\n",
        "     max_value = number     #Overwrite maximum with  obtained maximum value\n",
        "print(\"maximum value in the list is:\",max_value)"
      ],
      "metadata": {
        "colab": {
          "base_uri": "https://localhost:8080/"
        },
        "id": "63URs5rrPMHV",
        "outputId": "1f8c0811-7d0b-4034-cc1c-24bfa24f21aa"
      },
      "execution_count": 10,
      "outputs": [
        {
          "output_type": "stream",
          "name": "stdout",
          "text": [
            "maximum value in the list is: 92\n"
          ]
        }
      ]
    },
    {
      "cell_type": "markdown",
      "source": [
        "### 3.range:\n",
        "getting the range of numbers in the considered list.\n",
        "\n",
        "range is the difference of the highest and lowest values in the list"
      ],
      "metadata": {
        "id": "k3BnLonYIDyR"
      }
    },
    {
      "cell_type": "code",
      "source": [
        "range=max_value -minimum(data)\n",
        "print(\"range of numbers in the list is:\",range)"
      ],
      "metadata": {
        "colab": {
          "base_uri": "https://localhost:8080/"
        },
        "id": "iqMJ1lo6FVHx",
        "outputId": "2a665b82-9633-4e94-cb82-6c83016f8393"
      },
      "execution_count": 11,
      "outputs": [
        {
          "output_type": "stream",
          "name": "stdout",
          "text": [
            "range of numbers in the list is: 82\n"
          ]
        }
      ]
    },
    {
      "cell_type": "markdown",
      "source": [
        "### 4.mean:\n",
        "getting the mean of the conisdered list of integers.\n",
        "\n",
        "mean is the sum of all the numbers in the list divided by the total numbers in the list."
      ],
      "metadata": {
        "id": "YIfQYewPITAi"
      }
    },
    {
      "cell_type": "code",
      "source": [
        "total=0\n",
        "for i in data:\n",
        "  total=total+i\n",
        "\n",
        "print(\"total sum of elements in list is:\",total)\n",
        "print(\"mean of numbers in list is:\",total/len(data))"
      ],
      "metadata": {
        "colab": {
          "base_uri": "https://localhost:8080/"
        },
        "id": "V-GqmvmxPMD2",
        "outputId": "6dda8408-44c8-4f7c-c9d3-82913723c678"
      },
      "execution_count": 12,
      "outputs": [
        {
          "output_type": "stream",
          "name": "stdout",
          "text": [
            "total sum of elements in list is: 559\n",
            "mean of numbers in list is: 55.9\n"
          ]
        }
      ]
    },
    {
      "cell_type": "markdown",
      "source": [
        "### 5.variance:\n",
        "The variance is a measure of variability. It is calculated by taking the average of squared deviations from the mean."
      ],
      "metadata": {
        "id": "87GEClpnJDw4"
      }
    },
    {
      "cell_type": "code",
      "source": [
        "import math\n",
        "\n",
        "def variance(data, ddof=0):\n",
        "   n = len(data)\n",
        "   mean = sum(data) / n\n",
        "   return sum((x - mean) ** 2 for x in data) / (n - ddof)\n",
        "\n",
        "print(\"variance of given numbers is:\",variance(data))"
      ],
      "metadata": {
        "colab": {
          "base_uri": "https://localhost:8080/"
        },
        "id": "K4U52klrPMBL",
        "outputId": "472dc0dc-0af3-4112-d8f0-0f7890dd4ab3"
      },
      "execution_count": 13,
      "outputs": [
        {
          "output_type": "stream",
          "name": "stdout",
          "text": [
            "variance of given numbers is: 760.89\n"
          ]
        }
      ]
    },
    {
      "cell_type": "markdown",
      "source": [
        "### 6.standarad deviation:\n",
        "standard deviation is the measure of amount of variance.it is obtained by taking square root of variance."
      ],
      "metadata": {
        "id": "cNOd2WwdJWBA"
      }
    },
    {
      "cell_type": "code",
      "source": [
        "def stdev(data): \n",
        "  var = variance(data)\n",
        "  std_dev = math.sqrt(var)\n",
        "  return std_dev\n",
        "\n",
        "print(\"standard deviation of given list is:\",stdev(data))"
      ],
      "metadata": {
        "colab": {
          "base_uri": "https://localhost:8080/"
        },
        "id": "QeT9EbYEPL62",
        "outputId": "6ad9ad48-b36e-46b7-bca3-cadec65050a5"
      },
      "execution_count": 14,
      "outputs": [
        {
          "output_type": "stream",
          "name": "stdout",
          "text": [
            "standard deviation of given list is: 27.584234627772435\n"
          ]
        }
      ]
    },
    {
      "cell_type": "markdown",
      "source": [
        "#ref:\n",
        "1.https://stackoverflow.com/questions/36962479/how-to-store-user-input-into-list-on-python\n",
        "\n",
        "2.https://discuss.codecademy.com/t/how-could-i-find-the-minimum-value-without-using-min/338183 for finding minimum value in the list\n",
        "\n",
        "3.https://medium.com/@gregor.v.dulong/how-to-find-the-largest-number-in-a-list-without-max-function-in-python-33f5593798af for finding maximum value in the list\n",
        "\n",
        "4.https://stackabuse.com/calculating-variance-and-standard-deviation-in-python/ for variance and standard deviation."
      ],
      "metadata": {
        "id": "KnLrthRiNwOO"
      }
    }
  ]
}