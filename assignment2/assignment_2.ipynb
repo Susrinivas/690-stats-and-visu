{
  "nbformat": 4,
  "nbformat_minor": 0,
  "metadata": {
    "colab": {
      "provenance": [],
      "authorship_tag": "ABX9TyMp6AAmGQu+Zg3JchZa7fJ/",
      "include_colab_link": true
    },
    "kernelspec": {
      "name": "python3",
      "display_name": "Python 3"
    },
    "language_info": {
      "name": "python"
    }
  },
  "cells": [
    {
      "cell_type": "markdown",
      "metadata": {
        "id": "view-in-github",
        "colab_type": "text"
      },
      "source": [
        "<a href=\"https://colab.research.google.com/github/vunnampragathi/690-stats-and-visu/blob/main/assignment2/assignment_2.ipynb\" target=\"_parent\"><img src=\"https://colab.research.google.com/assets/colab-badge.svg\" alt=\"Open In Colab\"/></a>"
      ]
    },
    {
      "cell_type": "markdown",
      "source": [
        "# assignment 2"
      ],
      "metadata": {
        "id": "1DQixMxFFoT3"
      }
    },
    {
      "cell_type": "code",
      "execution_count": 17,
      "metadata": {
        "colab": {
          "base_uri": "https://localhost:8080/"
        },
        "id": "yxdkRQGsFe_w",
        "outputId": "e22fca84-89b8-4ead-ec35-319c17c1f65b"
      },
      "outputs": [
        {
          "output_type": "stream",
          "name": "stdout",
          "text": [
            "Enter an integer:4\n",
            "Enter an integer:6\n",
            "Enter an integer:h\n",
            "You need to enter an integer. please try again.\n",
            "Enter an integer:3\n",
            "Enter an integer:9\n",
            "Enter an integer:1\n",
            "Enter an integer:m\n",
            "You need to enter an integer. please try again.\n",
            "Enter an integer:5\n",
            "Enter an integer:8\n",
            "Enter an integer:c\n",
            "You need to enter an integer. please try again.\n",
            "Enter an integer:3\n",
            "Enter an integer:5\n",
            "Enter an integer:3\n",
            "the given input integer values are [4, 6, 3, 9, 1, 5, 8, 3, 5, 3]\n"
          ]
        }
      ],
      "source": [
        "count = 0\n",
        "data=[] \n",
        "while True:\n",
        "    \n",
        "    if count == 10:\n",
        "        break\n",
        "\n",
        "    try:\n",
        "        \n",
        "        x = int(input(\"Enter an integer:\"))\n",
        "        count = count + 1\n",
        "\n",
        "        if type(x) == int:\n",
        "          data.append(x)\n",
        "       \n",
        "    except:\n",
        "        print(\"You need to enter an integer. please try again.\")\n",
        "        \n",
        "  \n",
        "      \n",
        "print(\"the given input integer values are\",data)"
      ]
    },
    {
      "cell_type": "code",
      "source": [
        "def minimum(list):\n",
        "  current_min = list[0]  # Start by assuming the first number is smallest\n",
        "  for num in list:       # Loop through each number in the list\n",
        "    if num < current_min:\n",
        "      current_min = num  # Update current_min if current number is less\n",
        "  return current_min"
      ],
      "metadata": {
        "id": "zXeOV4mEGdB5"
      },
      "execution_count": 19,
      "outputs": []
    },
    {
      "cell_type": "code",
      "source": [
        "print(minimum(data))"
      ],
      "metadata": {
        "colab": {
          "base_uri": "https://localhost:8080/"
        },
        "id": "KQNS12PnM7RJ",
        "outputId": "10d069b7-bee6-4560-f907-da56ed405098"
      },
      "execution_count": 20,
      "outputs": [
        {
          "output_type": "stream",
          "name": "stdout",
          "text": [
            "1\n"
          ]
        }
      ]
    },
    {
      "cell_type": "code",
      "source": [
        "max_value = data[0]         # Initialize candidate to first element in list\n",
        "for number in data[1:]:     # Go through all remaining numbers in the list\n",
        "    if number > max_value:  # Check if current number is larger than our candidate\n",
        "     max_value = number     #Overwrite candidate with maximum \n",
        "print(max_value)"
      ],
      "metadata": {
        "colab": {
          "base_uri": "https://localhost:8080/"
        },
        "id": "63URs5rrPMHV",
        "outputId": "5f0a4e3b-9bbb-4239-a1c2-24e864c2a26f"
      },
      "execution_count": 23,
      "outputs": [
        {
          "output_type": "stream",
          "name": "stdout",
          "text": [
            "9\n"
          ]
        }
      ]
    },
    {
      "cell_type": "code",
      "source": [],
      "metadata": {
        "id": "V-GqmvmxPMD2"
      },
      "execution_count": null,
      "outputs": []
    },
    {
      "cell_type": "code",
      "source": [],
      "metadata": {
        "id": "K4U52klrPMBL"
      },
      "execution_count": null,
      "outputs": []
    },
    {
      "cell_type": "code",
      "source": [],
      "metadata": {
        "id": "QeT9EbYEPL62"
      },
      "execution_count": null,
      "outputs": []
    },
    {
      "cell_type": "code",
      "source": [],
      "metadata": {
        "id": "TPslOgZEPLre"
      },
      "execution_count": null,
      "outputs": []
    },
    {
      "cell_type": "markdown",
      "source": [
        "#ref:\n",
        "1.https://stackoverflow.com/questions/36962479/how-to-store-user-input-into-list-on-python\n",
        "\n",
        "2.https://discuss.codecademy.com/t/how-could-i-find-the-minimum-value-without-using-min/338183 for finding minimum value in the list\n",
        "\n",
        "3.https://medium.com/@gregor.v.dulong/how-to-find-the-largest-number-in-a-list-without-max-function-in-python-33f5593798af for finding maximum value in the list"
      ],
      "metadata": {
        "id": "KnLrthRiNwOO"
      }
    },
    {
      "cell_type": "markdown",
      "source": [],
      "metadata": {
        "id": "FXZSrLSdPXZ2"
      }
    },
    {
      "cell_type": "markdown",
      "source": [],
      "metadata": {
        "id": "9e8QJ7QAPXWQ"
      }
    },
    {
      "cell_type": "code",
      "source": [],
      "metadata": {
        "id": "60Qh5YgCNyjh"
      },
      "execution_count": null,
      "outputs": []
    }
  ]
}