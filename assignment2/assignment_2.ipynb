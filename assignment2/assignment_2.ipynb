{
  "nbformat": 4,
  "nbformat_minor": 0,
  "metadata": {
    "colab": {
      "provenance": [],
      "authorship_tag": "ABX9TyPvkVZs/L7SmAl8Au1AOnH0",
      "include_colab_link": true
    },
    "kernelspec": {
      "name": "python3",
      "display_name": "Python 3"
    },
    "language_info": {
      "name": "python"
    }
  },
  "cells": [
    {
      "cell_type": "markdown",
      "metadata": {
        "id": "view-in-github",
        "colab_type": "text"
      },
      "source": [
        "<a href=\"https://colab.research.google.com/github/vunnampragathi/690-stats-and-visu/blob/main/assignment2/assignment_2.ipynb\" target=\"_parent\"><img src=\"https://colab.research.google.com/assets/colab-badge.svg\" alt=\"Open In Colab\"/></a>"
      ]
    },
    {
      "cell_type": "markdown",
      "source": [
        "# assignment 2"
      ],
      "metadata": {
        "id": "1DQixMxFFoT3"
      }
    },
    {
      "cell_type": "code",
      "execution_count": 3,
      "metadata": {
        "colab": {
          "base_uri": "https://localhost:8080/"
        },
        "id": "yxdkRQGsFe_w",
        "outputId": "ab0d695c-db2b-444b-8fe1-8affd04b4a18"
      },
      "outputs": [
        {
          "output_type": "stream",
          "name": "stdout",
          "text": [
            "Enter an integer:4\n",
            "Enter an integer:g\n",
            "You need to enter an integer. please try again.\n",
            "Enter an integer:4r\n",
            "You need to enter an integer. please try again.\n",
            "Enter an integer:64\n",
            "Enter an integer:3\n",
            "Enter an integer:7\n",
            "Enter an integer:86\n",
            "Enter an integer:3\n",
            "Enter an integer:4\n",
            "Enter an integer:23\n",
            "Enter an integer:23\n",
            "Enter an integer:45\n",
            "the given input integer values are [4, 64, 3, 7, 86, 3, 4, 23, 23, 45]\n"
          ]
        }
      ],
      "source": [
        "count = 0\n",
        "data=[] \n",
        "while True:\n",
        "    \n",
        "    if count == 10:\n",
        "        break\n",
        "\n",
        "    try:\n",
        "        \n",
        "        x = int(input(\"Enter an integer:\"))\n",
        "        count = count + 1\n",
        "\n",
        "        if type(x) == int:\n",
        "          data.append(x)\n",
        "       \n",
        "    except:\n",
        "        print(\"You need to enter an integer. please try again.\")\n",
        "        \n",
        "  \n",
        "      \n",
        "print(\"the given input integer values are\",data)"
      ]
    },
    {
      "cell_type": "code",
      "source": [
        "def minimum(list):\n",
        "  current_min = list[0]  # Start by assuming the first number is smallest\n",
        "  for num in list:       # Loop through each number in the list\n",
        "    if num < current_min:\n",
        "      current_min = num  # Update current_min if current number is less\n",
        "  return current_min"
      ],
      "metadata": {
        "id": "zXeOV4mEGdB5"
      },
      "execution_count": 4,
      "outputs": []
    },
    {
      "cell_type": "code",
      "source": [
        "print(minimum(data))"
      ],
      "metadata": {
        "colab": {
          "base_uri": "https://localhost:8080/"
        },
        "id": "KQNS12PnM7RJ",
        "outputId": "86dfc91f-b08b-4ca8-b697-2580aa202545"
      },
      "execution_count": 5,
      "outputs": [
        {
          "output_type": "stream",
          "name": "stdout",
          "text": [
            "3\n"
          ]
        }
      ]
    },
    {
      "cell_type": "code",
      "source": [
        "max_value = data[0]         # Initialize candidate to first element in list\n",
        "for number in data[1:]:     # Go through all remaining numbers in the list\n",
        "    if number > max_value:  # Check if current number is larger than our candidate\n",
        "     max_value = number     #Overwrite candidate with maximum \n",
        "print(max_value)"
      ],
      "metadata": {
        "colab": {
          "base_uri": "https://localhost:8080/"
        },
        "id": "63URs5rrPMHV",
        "outputId": "a480c306-c4d1-45ed-af8a-9a1199a2aa7a"
      },
      "execution_count": 6,
      "outputs": [
        {
          "output_type": "stream",
          "name": "stdout",
          "text": [
            "86\n"
          ]
        }
      ]
    },
    {
      "cell_type": "code",
      "source": [
        "total=0\n",
        "for i in data:\n",
        "  total=total+i\n",
        "\n",
        "print(\"total sum of elements in list is:\",total)\n",
        "print(\"mean of numbers in list is:\",total/len(data))"
      ],
      "metadata": {
        "colab": {
          "base_uri": "https://localhost:8080/"
        },
        "id": "V-GqmvmxPMD2",
        "outputId": "b64ab5e6-634e-4069-e41f-8f34896110e2"
      },
      "execution_count": 8,
      "outputs": [
        {
          "output_type": "stream",
          "name": "stdout",
          "text": [
            "total sum of elements in list is: 262\n",
            "mean of numbers in list is: 26.2\n"
          ]
        }
      ]
    },
    {
      "cell_type": "code",
      "source": [
        "import math\n",
        "\n",
        "def variance(data, ddof=0):\n",
        "   n = len(data)\n",
        "   mean = sum(data) / n\n",
        "   return sum((x - mean) ** 2 for x in data) / (n - ddof)\n",
        "\n",
        "print(\"variance of given numbers is:\",variance(data))"
      ],
      "metadata": {
        "colab": {
          "base_uri": "https://localhost:8080/"
        },
        "id": "K4U52klrPMBL",
        "outputId": "d3ab6bdb-9f6c-48e3-8d08-d273ddfa31c7"
      },
      "execution_count": 9,
      "outputs": [
        {
          "output_type": "stream",
          "name": "stdout",
          "text": [
            "variance of given numbers is: 780.9599999999998\n"
          ]
        }
      ]
    },
    {
      "cell_type": "code",
      "source": [
        "def stdev(data): \n",
        "  var = variance(data)\n",
        "  std_dev = math.sqrt(var)\n",
        "  return std_dev\n",
        "\n",
        "print(\"standard deviation of given list is:\",stdev(data))"
      ],
      "metadata": {
        "colab": {
          "base_uri": "https://localhost:8080/"
        },
        "id": "QeT9EbYEPL62",
        "outputId": "7740e579-5289-4ce0-e89e-cf75d41f4abf"
      },
      "execution_count": 10,
      "outputs": [
        {
          "output_type": "stream",
          "name": "stdout",
          "text": [
            "standard deviation of given list is: 27.945661559533704\n"
          ]
        }
      ]
    },
    {
      "cell_type": "code",
      "source": [],
      "metadata": {
        "id": "TPslOgZEPLre"
      },
      "execution_count": null,
      "outputs": []
    },
    {
      "cell_type": "markdown",
      "source": [
        "#ref:\n",
        "1.https://stackoverflow.com/questions/36962479/how-to-store-user-input-into-list-on-python\n",
        "\n",
        "2.https://discuss.codecademy.com/t/how-could-i-find-the-minimum-value-without-using-min/338183 for finding minimum value in the list\n",
        "\n",
        "3.https://medium.com/@gregor.v.dulong/how-to-find-the-largest-number-in-a-list-without-max-function-in-python-33f5593798af for finding maximum value in the list"
      ],
      "metadata": {
        "id": "KnLrthRiNwOO"
      }
    },
    {
      "cell_type": "markdown",
      "source": [],
      "metadata": {
        "id": "FXZSrLSdPXZ2"
      }
    },
    {
      "cell_type": "markdown",
      "source": [],
      "metadata": {
        "id": "9e8QJ7QAPXWQ"
      }
    },
    {
      "cell_type": "code",
      "source": [],
      "metadata": {
        "id": "60Qh5YgCNyjh"
      },
      "execution_count": null,
      "outputs": []
    }
  ]
}