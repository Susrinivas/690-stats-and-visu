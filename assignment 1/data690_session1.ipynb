{
  "nbformat": 4,
  "nbformat_minor": 0,
  "metadata": {
    "colab": {
      "provenance": [],
      "authorship_tag": "ABX9TyOJkU4ELPeF4W7iHtW78Trb",
      "include_colab_link": true
    },
    "kernelspec": {
      "name": "python3",
      "display_name": "Python 3"
    },
    "language_info": {
      "name": "python"
    }
  },
  "cells": [
    {
      "cell_type": "markdown",
      "metadata": {
        "id": "view-in-github",
        "colab_type": "text"
      },
      "source": [
        "<a href=\"https://colab.research.google.com/github/vunnampragathi/690-stats-and-visu/blob/main/assignment%201/data690_session1.ipynb\" target=\"_parent\"><img src=\"https://colab.research.google.com/assets/colab-badge.svg\" alt=\"Open In Colab\"/></a>"
      ]
    },
    {
      "cell_type": "markdown",
      "source": [
        "#data 690 session 01\n",
        "\n",
        "this is the notebook for in class practice.\n",
        "\n",
        "-Name:*pragathi vunnam*\n",
        "\n",
        "-date:*09/01/2022*\n"
      ],
      "metadata": {
        "id": "r_BFJT3Psl4f"
      }
    },
    {
      "cell_type": "code",
      "execution_count": 1,
      "metadata": {
        "colab": {
          "base_uri": "https://localhost:8080/"
        },
        "id": "otTZwEKNsZbM",
        "outputId": "1fcbad52-323a-41cd-e37d-a8987a6b4094"
      },
      "outputs": [
        {
          "output_type": "stream",
          "name": "stdout",
          "text": [
            "hello world!\n"
          ]
        }
      ],
      "source": [
        "print(\"hello world!\")"
      ]
    },
    {
      "cell_type": "code",
      "source": [
        "print(\"my name \",\"is pragathi\")"
      ],
      "metadata": {
        "id": "TUV7cRuxtUCx",
        "outputId": "81190318-e0fe-4cfe-e94b-913475a55b3d",
        "colab": {
          "base_uri": "https://localhost:8080/"
        }
      },
      "execution_count": 2,
      "outputs": [
        {
          "output_type": "stream",
          "name": "stdout",
          "text": [
            "my name  is pragathi\n"
          ]
        }
      ]
    },
    {
      "cell_type": "code",
      "source": [
        "age=23\n",
        "name=\"pragathi\"\n",
        "print(\"my name is\",name,\",my age is\",age)"
      ],
      "metadata": {
        "id": "vv-5KlygupL6",
        "outputId": "cc360771-0fe9-4bf6-948f-cf8e51d136e2",
        "colab": {
          "base_uri": "https://localhost:8080/"
        }
      },
      "execution_count": 4,
      "outputs": [
        {
          "output_type": "stream",
          "name": "stdout",
          "text": [
            "my name is pragathi ,my age is 23\n"
          ]
        }
      ]
    },
    {
      "cell_type": "code",
      "source": [],
      "metadata": {
        "id": "g3sXy3oEu_H9"
      },
      "execution_count": null,
      "outputs": []
    }
  ]
}