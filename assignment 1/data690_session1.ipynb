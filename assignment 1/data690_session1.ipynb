{
  "nbformat": 4,
  "nbformat_minor": 0,
  "metadata": {
    "colab": {
      "provenance": [],
      "authorship_tag": "ABX9TyMvK+ozDe1gwH8gvZrGNnXF",
      "include_colab_link": true
    },
    "kernelspec": {
      "name": "python3",
      "display_name": "Python 3"
    },
    "language_info": {
      "name": "python"
    }
  },
  "cells": [
    {
      "cell_type": "markdown",
      "metadata": {
        "id": "view-in-github",
        "colab_type": "text"
      },
      "source": [
        "<a href=\"https://colab.research.google.com/github/vunnampragathi/690-stats-and-visu/blob/main/assignment%201/data690_session1.ipynb\" target=\"_parent\"><img src=\"https://colab.research.google.com/assets/colab-badge.svg\" alt=\"Open In Colab\"/></a>"
      ]
    },
    {
      "cell_type": "markdown",
      "source": [
        "#data 690 session 01\n",
        "\n",
        "this is the notebook for in class practice.\n",
        "\n",
        "-Name:*pragathi vunnam*\n",
        "\n",
        "-date:*09/01/2022*\n"
      ],
      "metadata": {
        "id": "r_BFJT3Psl4f"
      }
    },
    {
      "cell_type": "code",
      "execution_count": 1,
      "metadata": {
        "colab": {
          "base_uri": "https://localhost:8080/"
        },
        "id": "otTZwEKNsZbM",
        "outputId": "7246cd75-0958-4726-b8bb-65192577485a"
      },
      "outputs": [
        {
          "output_type": "stream",
          "name": "stdout",
          "text": [
            "hello world!\n"
          ]
        }
      ],
      "source": [
        "print(\"hello world!\")"
      ]
    },
    {
      "cell_type": "code",
      "source": [],
      "metadata": {
        "id": "TUV7cRuxtUCx"
      },
      "execution_count": null,
      "outputs": []
    }
  ]
}