{
  "nbformat": 4,
  "nbformat_minor": 0,
  "metadata": {
    "colab": {
      "provenance": [],
      "authorship_tag": "ABX9TyNv566fTYf1q1psesU2rUD2",
      "include_colab_link": true
    },
    "kernelspec": {
      "name": "python3",
      "display_name": "Python 3"
    },
    "language_info": {
      "name": "python"
    }
  },
  "cells": [
    {
      "cell_type": "markdown",
      "metadata": {
        "id": "view-in-github",
        "colab_type": "text"
      },
      "source": [
        "<a href=\"https://colab.research.google.com/github/vunnampragathi/690-stats-and-visu/blob/main/assignment03/assignment_3.ipynb\" target=\"_parent\"><img src=\"https://colab.research.google.com/assets/colab-badge.svg\" alt=\"Open In Colab\"/></a>"
      ]
    },
    {
      "cell_type": "markdown",
      "source": [
        "# assignment 03\n",
        "name:pragathi vunnam\n",
        "\n",
        "date:09/16/22"
      ],
      "metadata": {
        "id": "1J52QFtkR_Pm"
      }
    },
    {
      "cell_type": "markdown",
      "source": [
        "1.Printing a 10 by 10 matrix :"
      ],
      "metadata": {
        "id": "v6OWXwFgUu7d"
      }
    },
    {
      "cell_type": "code",
      "execution_count": 38,
      "metadata": {
        "colab": {
          "base_uri": "https://localhost:8080/"
        },
        "id": "DV_W6-c0RjhN",
        "outputId": "60a8d4a0-ce37-4742-ef46-b08c7a175eba"
      },
      "outputs": [
        {
          "output_type": "stream",
          "name": "stdout",
          "text": [
            "4 0 4 7 6 9 0 5 3 4  \n",
            "2 3 6 8 7 3 2 2 7 4  \n",
            "1 4 8 1 5 6 4 4 1 9  \n",
            "0 2 6 5 2 5 5 4 3 0  \n",
            "5 3 5 5 8 3 9 5 2 0  \n",
            "5 1 4 6 8 4 0 2 8 9  \n",
            "7 6 3 8 1 8 6 4 5 2  \n",
            "0 5 6 8 6 2 8 9 6 9  \n",
            "4 1 9 0 1 8 9 0 3 3  \n",
            "4 7 6 7 6 3 0 1 8 2  \n"
          ]
        }
      ],
      "source": [
        "import random\n",
        "size=10\n",
        "random_numbers=[]\n",
        "for i in range(size):\n",
        "  for j in range(size):\n",
        "    print(random.randint(0,9),end=\" \")\n",
        "\n",
        "  print(\" \")"
      ]
    },
    {
      "cell_type": "markdown",
      "source": [
        "2.If the random number is an odd number, print \"@\" instead. like the following:"
      ],
      "metadata": {
        "id": "kNpRVe9VU7zp"
      }
    },
    {
      "cell_type": "code",
      "source": [
        "for i in range (size):\n",
        "    for j in range (size):\n",
        "        num=random.randint(0,9)\n",
        "        if num%2==0:\n",
        "            print(num,end=\" \")\n",
        "        else:\n",
        "            print('@',end=\" \")\n",
        "    print('')"
      ],
      "metadata": {
        "colab": {
          "base_uri": "https://localhost:8080/"
        },
        "id": "se1S0c2lTJ6j",
        "outputId": "e3f67538-eba5-4161-f54c-d08887dcc29d"
      },
      "execution_count": 12,
      "outputs": [
        {
          "output_type": "stream",
          "name": "stdout",
          "text": [
            "0 8 @ @ 2 6 @ @ 2 2 \n",
            "2 @ 2 2 @ @ @ 4 4 @ \n",
            "2 6 4 @ 2 0 8 @ @ @ \n",
            "@ 4 8 2 @ @ @ @ @ 0 \n",
            "6 8 @ 0 @ 2 @ 6 @ @ \n",
            "@ @ @ 6 2 @ @ @ @ @ \n",
            "2 2 @ 4 @ 6 6 @ 0 8 \n",
            "@ @ 6 2 @ 0 8 @ 8 @ \n",
            "@ 0 @ @ @ 6 8 @ @ @ \n",
            "6 @ @ 8 0 @ 8 0 8 2 \n"
          ]
        }
      ]
    },
    {
      "cell_type": "markdown",
      "source": [
        "3.Calculate and Print the total of each row like the following (use \"*\" to separate the total from the numbers):"
      ],
      "metadata": {
        "id": "nJ41DXppW2wz"
      }
    },
    {
      "cell_type": "code",
      "source": [
        "#Calculates sum of each row of given matrix  \n",
        "for i in range(size):  \n",
        "    sumRow = 0;  \n",
        "    for j in range(size):\n",
        "      num=random.randint(0,9) \n",
        "      sumRow = sumRow + num  \n",
        "      print(num, end=\" \")\n",
        "    print('*',sumRow,end=\" \")\n",
        "    print(\" \")  \n"
      ],
      "metadata": {
        "colab": {
          "base_uri": "https://localhost:8080/"
        },
        "id": "hmimMrxSV9g0",
        "outputId": "977cd204-aece-420e-ef9c-5e0f2571d10d"
      },
      "execution_count": 20,
      "outputs": [
        {
          "output_type": "stream",
          "name": "stdout",
          "text": [
            "3 8 2 5 2 1 6 3 7 5 * 42  \n",
            "1 0 1 7 5 0 3 5 1 2 * 25  \n",
            "2 4 2 2 6 1 7 7 1 4 * 36  \n",
            "6 1 9 3 1 0 7 6 8 3 * 44  \n",
            "4 2 2 8 8 3 0 8 2 9 * 46  \n",
            "1 2 3 9 6 9 9 2 8 6 * 55  \n",
            "8 4 0 3 9 0 8 5 2 3 * 42  \n",
            "6 6 3 7 7 4 7 0 3 4 * 47  \n",
            "1 0 3 2 6 0 9 2 4 2 * 29  \n",
            "7 3 3 2 0 5 0 7 7 5 * 39  \n"
          ]
        }
      ]
    },
    {
      "cell_type": "markdown",
      "source": [
        "4.Surround the matrix with asterisks (*) like the following:"
      ],
      "metadata": {
        "id": "yM4nk5m2bOeG"
      }
    },
    {
      "cell_type": "code",
      "source": [
        "# initializing border\n",
        "bord = \"*\"\n",
        "for i in range(0,23):\n",
        "  print(bord,end=\"\")\n",
        "print(\" \")\n",
        "for row in range(size):\n",
        "  print(bord ,end= \" \")\n",
        " \n",
        "    # inner row\n",
        "  for column in range(size):\n",
        "    num=random.randint(0,9)\n",
        "    print(num,end=\" \")\n",
        " \n",
        "    # adding border\n",
        "  print(bord,end=\" \")  \n",
        "  print(\" \")\n",
        "for j in range(0,23):\n",
        "  print(bord,end=\"\") \n",
        "print(\" \")"
      ],
      "metadata": {
        "colab": {
          "base_uri": "https://localhost:8080/"
        },
        "id": "qze-YWevcCNw",
        "outputId": "69696e19-96dc-46d7-92b1-a653dfe79a94"
      },
      "execution_count": 37,
      "outputs": [
        {
          "output_type": "stream",
          "name": "stdout",
          "text": [
            "*********************** \n",
            "* 5 2 5 0 4 5 4 6 9 5 *  \n",
            "* 3 2 5 1 6 8 8 4 1 3 *  \n",
            "* 8 2 7 7 9 9 8 3 3 0 *  \n",
            "* 9 2 1 4 7 3 0 2 9 0 *  \n",
            "* 6 4 1 5 5 0 1 3 3 8 *  \n",
            "* 7 0 6 7 9 1 7 6 4 7 *  \n",
            "* 9 0 3 6 5 6 8 0 1 8 *  \n",
            "* 6 8 1 7 7 1 7 2 9 5 *  \n",
            "* 5 7 6 1 8 7 6 0 1 9 *  \n",
            "* 4 9 0 2 9 5 0 5 3 9 *  \n",
            "*********************** \n"
          ]
        }
      ]
    },
    {
      "cell_type": "markdown",
      "source": [
        "5.Calculating and Printing the total of each row and column "
      ],
      "metadata": {
        "id": "XleXtGlgh6yT"
      }
    },
    {
      "cell_type": "code",
      "source": [
        "sumCol = [0]*10\n",
        "for i in range(size):\n",
        "    sumRow = 0\n",
        "    for j in range(size):\n",
        "        num = random.randint(0,9)\n",
        "        sumRow=sumRow+num\n",
        "        sumCol[j]=sumCol[j]+num\n",
        "        print(num, end=\"  \") \n",
        "    print(\"*\",end=\" \")\n",
        "    print(sumRow,end=\" \")\n",
        "    print(\"\\n\")\n",
        "for i in range(size):\n",
        "    print(\"*\",end=\"  \")\n",
        "print(\" \")    \n",
        "for k in range(size):\n",
        "    print(column_sum[i],end=\" \")\n",
        "    k= k+1"
      ],
      "metadata": {
        "colab": {
          "base_uri": "https://localhost:8080/"
        },
        "id": "5u4ebz1aiDsc",
        "outputId": "cee1c8cc-0f02-4687-a7c7-1a56f68e8b18"
      },
      "execution_count": 56,
      "outputs": [
        {
          "output_type": "stream",
          "name": "stdout",
          "text": [
            "6  5  3  2  9  3  0  6  2  7  * 43 \n",
            "\n",
            "1  6  3  9  4  3  1  1  6  1  * 35 \n",
            "\n",
            "9  5  5  2  0  7  5  4  6  9  * 52 \n",
            "\n",
            "0  9  8  7  1  2  6  5  4  7  * 49 \n",
            "\n",
            "5  1  7  0  3  0  6  2  7  4  * 35 \n",
            "\n",
            "1  1  6  4  4  0  3  1  9  2  * 31 \n",
            "\n",
            "5  3  2  5  1  3  3  3  2  5  * 32 \n",
            "\n",
            "2  8  2  7  0  7  8  1  6  3  * 44 \n",
            "\n",
            "4  3  3  1  8  4  7  9  5  2  * 46 \n",
            "\n",
            "8  5  4  4  4  1  0  9  5  6  * 46 \n",
            "\n",
            "*  *  *  *  *  *  *  *  *  *   \n",
            "34 34 34 34 34 34 34 34 34 34 "
          ]
        }
      ]
    },
    {
      "cell_type": "markdown",
      "source": [
        "# ref:\n",
        "1.https://www.toppr.com/guides/python-guide/examples/python-examples/python-program-to-check-if-a-number-is-odd-or-even/#:~:text=Also%2C%20if%E2%80%A6else%20statements%20will,required%20code%20is%20provided%20below.&text=num%20%3D%20int%20(input%20(%E2%80%9C,even%3A%20887%20887%20is%20odd. for checkking odd number.\n",
        "\n",
        "2.https://www.javatpoint.com/program-to-find-the-sum-of-each-row-and-each-column-of-a-matrix"
      ],
      "metadata": {
        "id": "QohjiUIFW9W0"
      }
    },
    {
      "cell_type": "code",
      "source": [],
      "metadata": {
        "id": "bNmGVXfRXCRn"
      },
      "execution_count": null,
      "outputs": []
    }
  ]
}