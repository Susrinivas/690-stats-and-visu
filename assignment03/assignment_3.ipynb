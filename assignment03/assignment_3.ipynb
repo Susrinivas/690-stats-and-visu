{
  "nbformat": 4,
  "nbformat_minor": 0,
  "metadata": {
    "colab": {
      "provenance": [],
      "authorship_tag": "ABX9TyPy9CFf2C9QWMCPMbs2OpWv",
      "include_colab_link": true
    },
    "kernelspec": {
      "name": "python3",
      "display_name": "Python 3"
    },
    "language_info": {
      "name": "python"
    }
  },
  "cells": [
    {
      "cell_type": "markdown",
      "metadata": {
        "id": "view-in-github",
        "colab_type": "text"
      },
      "source": [
        "<a href=\"https://colab.research.google.com/github/vunnampragathi/690-stats-and-visu/blob/main/assignment03/assignment_3.ipynb\" target=\"_parent\"><img src=\"https://colab.research.google.com/assets/colab-badge.svg\" alt=\"Open In Colab\"/></a>"
      ]
    },
    {
      "cell_type": "markdown",
      "source": [
        "# assignment 03\n",
        "name:pragathi vunnam\n",
        "\n",
        "date:09/16/22"
      ],
      "metadata": {
        "id": "1J52QFtkR_Pm"
      }
    },
    {
      "cell_type": "markdown",
      "source": [
        "1.Printing a 10 by 10 matrix :"
      ],
      "metadata": {
        "id": "v6OWXwFgUu7d"
      }
    },
    {
      "cell_type": "code",
      "execution_count": 18,
      "metadata": {
        "colab": {
          "base_uri": "https://localhost:8080/"
        },
        "id": "DV_W6-c0RjhN",
        "outputId": "64559d01-6ca0-42bf-9870-d2231fbabf96"
      },
      "outputs": [
        {
          "output_type": "stream",
          "name": "stdout",
          "text": [
            "0 3 6 4 0 7 8 3 5 7  \n",
            "7 6 6 6 6 1 9 7 3 2  \n",
            "2 2 3 9 6 0 5 5 5 2  \n",
            "2 7 2 8 2 5 2 9 7 6  \n",
            "5 2 8 9 1 1 5 2 3 7  \n",
            "6 4 8 8 0 4 9 9 7 9  \n",
            "7 9 7 2 7 9 9 4 2 4  \n",
            "8 5 0 6 8 4 4 0 1 0  \n",
            "2 8 3 6 1 0 5 4 5 0  \n",
            "2 8 0 4 6 3 7 1 2 9  \n"
          ]
        }
      ],
      "source": [
        "import random\n",
        "size=10\n",
        "random_numbers=[]\n",
        "for i in range(size):                    # for loop to get row elements\n",
        "  for j in range(size):                  # for loop to get column elements\n",
        "    print(random.randint(0,9),end=\" \")   # to get random number between 0 and 9\n",
        "\n",
        "  print(\" \")                             "
      ]
    },
    {
      "cell_type": "markdown",
      "source": [
        "2.If the random number is an odd number, print \"@\" instead. like the following:"
      ],
      "metadata": {
        "id": "kNpRVe9VU7zp"
      }
    },
    {
      "cell_type": "code",
      "source": [
        "for i in range (size):\n",
        "    for j in range (size):\n",
        "        num=random.randint(0,9)\n",
        "        if num%2==0:                   # this is the condition for even number,if the number satisfies this condition it indicates it is even number then i will print the number itself\n",
        "            print(num,end=\" \")\n",
        "        else:\n",
        "            print('@',end=\" \")         # if the number doesn't satisfy above condition it indicates it is odd number then printing @ symbol instead of number\n",
        "    print('')"
      ],
      "metadata": {
        "colab": {
          "base_uri": "https://localhost:8080/"
        },
        "id": "se1S0c2lTJ6j",
        "outputId": "b0df98af-81ec-4549-8d5b-4a29ed8c05d0"
      },
      "execution_count": 19,
      "outputs": [
        {
          "output_type": "stream",
          "name": "stdout",
          "text": [
            "@ @ 0 0 @ @ 8 @ @ @ \n",
            "0 @ 4 2 0 @ 2 6 8 @ \n",
            "@ 2 8 0 @ 0 @ @ @ @ \n",
            "8 6 4 @ 0 4 @ @ 4 0 \n",
            "@ @ 8 4 0 @ 0 2 @ @ \n",
            "@ 0 4 2 2 @ 4 8 2 @ \n",
            "@ 8 @ @ @ @ @ @ @ 0 \n",
            "4 @ 8 @ @ @ 8 @ 2 @ \n",
            "@ @ @ 0 0 0 8 @ 6 @ \n",
            "@ @ @ 8 2 0 @ 8 @ 2 \n"
          ]
        }
      ]
    },
    {
      "cell_type": "markdown",
      "source": [
        "3.Calculate and Print the total of each row like the following (use \"*\" to separate the total from the numbers):"
      ],
      "metadata": {
        "id": "nJ41DXppW2wz"
      }
    },
    {
      "cell_type": "code",
      "source": [
        "#Calculates sum of each row of given matrix  \n",
        "for i in range(size):  \n",
        "    sumRow = 0;  \n",
        "    for j in range(size):\n",
        "      num=random.randint(0,9) \n",
        "      sumRow = sumRow + num        # getting the sum of the elements in the row\n",
        "      print(num, end=\" \")\n",
        "    print('*',sumRow,end=\" \")      # printing the * symbol and sum at the end of each row\n",
        "    print(\" \")  \n"
      ],
      "metadata": {
        "colab": {
          "base_uri": "https://localhost:8080/"
        },
        "id": "hmimMrxSV9g0",
        "outputId": "2a6a609c-4ac4-4700-d98b-b46158fb27f1"
      },
      "execution_count": 20,
      "outputs": [
        {
          "output_type": "stream",
          "name": "stdout",
          "text": [
            "3 1 4 1 8 0 5 8 8 1 * 39  \n",
            "6 6 8 0 7 1 5 3 3 7 * 46  \n",
            "3 8 6 8 9 3 7 3 0 3 * 50  \n",
            "6 2 1 0 4 1 8 1 8 1 * 32  \n",
            "4 0 8 1 3 2 5 8 2 3 * 36  \n",
            "4 7 4 0 9 1 8 9 2 7 * 51  \n",
            "5 5 8 9 3 2 9 4 4 7 * 56  \n",
            "4 3 6 9 0 9 7 2 6 9 * 55  \n",
            "9 4 0 6 7 1 3 0 8 2 * 40  \n",
            "6 9 1 7 6 0 2 3 7 4 * 45  \n"
          ]
        }
      ]
    },
    {
      "cell_type": "markdown",
      "source": [
        "4.Surround the matrix with asterisks (*) like the following:"
      ],
      "metadata": {
        "id": "yM4nk5m2bOeG"
      }
    },
    {
      "cell_type": "code",
      "source": [
        "# initializing border\n",
        "bord = \"*\"\n",
        "for i in range(0,23):       # printing the border at the start of the list\n",
        "  print(bord,end=\"\")\n",
        "print(\" \")\n",
        "for row in range(size):\n",
        "  print(bord ,end= \" \")\n",
        " \n",
        "    # inner row\n",
        "  for column in range(size):\n",
        "    num=random.randint(0,9)\n",
        "    print(num,end=\" \")\n",
        " \n",
        "    # adding border\n",
        "  print(bord,end=\" \")  \n",
        "  print(\" \")\n",
        "for j in range(0,23):        # printing the border at the end of list\n",
        "  print(bord,end=\"\") \n",
        "print(\" \")"
      ],
      "metadata": {
        "colab": {
          "base_uri": "https://localhost:8080/"
        },
        "id": "qze-YWevcCNw",
        "outputId": "e5d537a8-8f00-4048-bf37-b16d9375d84a"
      },
      "execution_count": 21,
      "outputs": [
        {
          "output_type": "stream",
          "name": "stdout",
          "text": [
            "*********************** \n",
            "* 6 6 0 7 9 1 3 0 1 9 *  \n",
            "* 6 6 9 4 0 1 6 6 8 3 *  \n",
            "* 6 8 4 6 2 4 1 0 6 7 *  \n",
            "* 2 3 8 7 2 0 8 0 4 6 *  \n",
            "* 4 7 4 3 3 5 7 0 6 2 *  \n",
            "* 8 7 2 6 0 3 5 3 8 4 *  \n",
            "* 4 2 0 8 7 7 3 7 0 4 *  \n",
            "* 5 6 8 8 1 9 3 3 0 9 *  \n",
            "* 7 4 9 3 1 9 2 7 5 8 *  \n",
            "* 7 4 7 4 1 2 0 1 7 2 *  \n",
            "*********************** \n"
          ]
        }
      ]
    },
    {
      "cell_type": "markdown",
      "source": [
        "5.Calculating and Printing the total of each row and column "
      ],
      "metadata": {
        "id": "XleXtGlgh6yT"
      }
    },
    {
      "cell_type": "code",
      "source": [
        "sumCol = [0]*10                   # initializing a list with sumCol=0 10 times because we have 10 columns and we need to print sum of each column separately\n",
        "for i in range(size):\n",
        "    sumRow = 0                         # initialising sumRow=0\n",
        "    \n",
        "    for j in range(size):\n",
        "        num = random.randint(0,9)\n",
        "        sumRow=sumRow+num              # getting of sum of each row \n",
        "        sumCol[j]=sumCol[j]+num        # getting sum of each column\n",
        "        print(num, end=\"  \") \n",
        "    print(\"*\",end=\" \")\n",
        "    print(sumRow,end=\" \")\n",
        "    print(\"\\n\")\n",
        "for i in range(size):\n",
        "    print(\"*\",end=\"  \")\n",
        "i=0\n",
        "print(\" \")    \n",
        "for i in range(10):\n",
        "    print(sumCol[i], end=\" \")\n",
        "print(\"\")"
      ],
      "metadata": {
        "colab": {
          "base_uri": "https://localhost:8080/"
        },
        "id": "5u4ebz1aiDsc",
        "outputId": "f5ff8939-981f-4ed7-fe5f-ad3a6f5d9e36"
      },
      "execution_count": 22,
      "outputs": [
        {
          "output_type": "stream",
          "name": "stdout",
          "text": [
            "2  3  0  0  8  1  9  8  3  1  * 35 \n",
            "\n",
            "8  6  2  4  0  9  1  8  2  3  * 43 \n",
            "\n",
            "3  6  1  1  3  2  4  2  6  4  * 32 \n",
            "\n",
            "0  3  6  5  9  4  6  8  8  2  * 51 \n",
            "\n",
            "2  2  4  3  9  0  5  9  2  5  * 41 \n",
            "\n",
            "8  8  9  5  5  9  5  5  0  5  * 59 \n",
            "\n",
            "9  2  5  4  4  8  9  7  7  4  * 59 \n",
            "\n",
            "2  8  2  8  8  5  4  3  9  9  * 58 \n",
            "\n",
            "7  3  0  9  8  6  6  3  5  5  * 52 \n",
            "\n",
            "5  7  1  1  8  9  4  0  9  5  * 49 \n",
            "\n",
            "*  *  *  *  *  *  *  *  *  *   \n",
            "46 48 30 40 62 53 53 53 51 43 \n"
          ]
        }
      ]
    },
    {
      "cell_type": "markdown",
      "source": [
        "# ref:\n",
        "1.https://www.toppr.com/guides/python-guide/examples/python-examples/python-program-to-check-if-a-number-is-odd-or-even/#:~:text=Also%2C%20if%E2%80%A6else%20statements%20will,required%20code%20is%20provided%20below.&text=num%20%3D%20int%20(input%20(%E2%80%9C,even%3A%20887%20887%20is%20odd. for checkking odd number.\n",
        "\n",
        "2.https://www.javatpoint.com/program-to-find-the-sum-of-each-row-and-each-column-of-a-matrix"
      ],
      "metadata": {
        "id": "QohjiUIFW9W0"
      }
    },
    {
      "cell_type": "code",
      "source": [],
      "metadata": {
        "id": "bNmGVXfRXCRn"
      },
      "execution_count": null,
      "outputs": []
    }
  ]
}